{
 "cells": [
  {
   "cell_type": "markdown",
   "metadata": {},
   "source": [
    "# [All About Qubits](https://pennylane.ai/codebook/01-introduction-to-quantum-computing/01-all-about-qubits)"
   ]
  },
  {
   "cell_type": "code",
   "execution_count": 2,
   "metadata": {},
   "outputs": [],
   "source": [
    "import pennylane as qml\n",
    "from pennylane import numpy as np"
   ]
  },
  {
   "cell_type": "markdown",
   "metadata": {},
   "source": [
    "## Codercise l.1.1"
   ]
  },
  {
   "cell_type": "code",
   "execution_count": 3,
   "metadata": {},
   "outputs": [],
   "source": [
    "# Here are the vector representations of |0> and |1>, for convenience\n",
    "ket_0 = np.array([1, 0])\n",
    "ket_1 = np.array([0, 1])\n",
    "\n",
    "\n",
    "def normalize_state(alpha, beta):\n",
    "    \"\"\"Compute a normalized quantum state given arbitrary amplitudes.\n",
    "\n",
    "    Args:\n",
    "        alpha (complex): The amplitude associated with the |0> state.\n",
    "        beta (complex): The amplitude associated with the |1> state.\n",
    "\n",
    "    Returns:\n",
    "        np.array[complex]: A vector (numpy array) with 2 elements that represents\n",
    "        a normalized quantum state.\n",
    "    \"\"\"\n",
    "\n",
    "    ##################\n",
    "    # YOUR CODE HERE #\n",
    "    ##################\n",
    "\n",
    "    # CREATE A VECTOR [a', b'] BASED ON alpha AND beta SUCH THAT |a'|^2 + |b'|^2 = 1\n",
    "    v = alpha * ket_0 + beta * ket_1\n",
    "    v /= np.linalg.norm(v)\n",
    "\n",
    "    # RETURN A VECTOR\n",
    "    return v\n"
   ]
  },
  {
   "cell_type": "markdown",
   "metadata": {},
   "source": [
    "## Codercise l.1.2"
   ]
  },
  {
   "cell_type": "code",
   "execution_count": 4,
   "metadata": {},
   "outputs": [
    {
     "name": "stdout",
     "output_type": "stream",
     "text": [
      "<0|0> = 1\n",
      "<0|1> = 0\n",
      "<1|0> = 0\n",
      "<1|1> = 1\n"
     ]
    }
   ],
   "source": [
    "def inner_product(state_1, state_2):\n",
    "    \"\"\"Compute the inner product between two states.\n",
    "\n",
    "    Args:\n",
    "        state_1 (np.array[complex]): A normalized quantum state vector\n",
    "        state_2 (np.array[complex]): A second normalized quantum state vector\n",
    "\n",
    "    Returns:\n",
    "        complex: The value of the inner product <state_1 | state_2>.\n",
    "    \"\"\"\n",
    "\n",
    "    ##################\n",
    "    # YOUR CODE HERE #\n",
    "    ##################\n",
    "\n",
    "    # COMPUTE AND RETURN THE INNER PRODUCT\n",
    "\n",
    "    return np.vdot(state_1, state_2)\n",
    "\n",
    "\n",
    "# Test your results with this code\n",
    "ket_0 = np.array([1, 0])\n",
    "ket_1 = np.array([0, 1])\n",
    "\n",
    "print(f\"<0|0> = {inner_product(ket_0, ket_0)}\")\n",
    "print(f\"<0|1> = {inner_product(ket_0, ket_1)}\")\n",
    "print(f\"<1|0> = {inner_product(ket_1, ket_0)}\")\n",
    "print(f\"<1|1> = {inner_product(ket_1, ket_1)}\")\n"
   ]
  },
  {
   "cell_type": "markdown",
   "metadata": {},
   "source": [
    "## Codercise l.1.3"
   ]
  },
  {
   "cell_type": "code",
   "execution_count": 5,
   "metadata": {},
   "outputs": [],
   "source": [
    "def measure_state(state, num_meas):\n",
    "    \"\"\"Simulate a quantum measurement process.\n",
    "\n",
    "    Args:\n",
    "        state (np.array[complex]): A normalized qubit state vector.\n",
    "        num_meas (int): The number of measurements to take\n",
    "\n",
    "    Returns:\n",
    "        np.array[int]: A set of num_meas samples, 0 or 1, chosen according to the probability\n",
    "        distribution defined by the input state.\n",
    "    \"\"\"\n",
    "\n",
    "    ##################\n",
    "    # YOUR CODE HERE #\n",
    "    ##################\n",
    "\n",
    "    # COMPUTE THE MEASUREMENT OUTCOME PROBABILITIES\n",
    "    probs = np.abs(state) ** 2\n",
    "\n",
    "    # RETURN A LIST OF SAMPLE MEASUREMENT OUTCOMES\n",
    "\n",
    "    return np.random.choice([0, 1], size=num_meas, p=probs)\n"
   ]
  },
  {
   "cell_type": "markdown",
   "metadata": {},
   "source": [
    "## Codercise l.1.4"
   ]
  },
  {
   "cell_type": "code",
   "execution_count": 6,
   "metadata": {},
   "outputs": [],
   "source": [
    "U = np.array([[1, 1], [1, -1]]) / np.sqrt(2)\n",
    "\n",
    "\n",
    "def apply_u(state):\n",
    "    \"\"\"Apply a quantum operation.\n",
    "\n",
    "    Args:\n",
    "        state (np.array[complex]): A normalized quantum state vector.\n",
    "\n",
    "    Returns:\n",
    "        np.array[complex]: The output state after applying U.\n",
    "    \"\"\"\n",
    "\n",
    "    ##################\n",
    "    # YOUR CODE HERE #\n",
    "    ##################\n",
    "\n",
    "    # APPLY U TO THE INPUT STATE AND RETURN THE NEW STATE\n",
    "    return U @ state\n"
   ]
  },
  {
   "cell_type": "markdown",
   "metadata": {},
   "source": [
    "## Codercise l.1.5"
   ]
  },
  {
   "cell_type": "code",
   "execution_count": 7,
   "metadata": {},
   "outputs": [],
   "source": [
    "U = np.array([[1, 1], [1, -1]]) / np.sqrt(2)\n",
    "\n",
    "\n",
    "def initialize_state():\n",
    "    \"\"\"Prepare a qubit in state |0>.\n",
    "\n",
    "    Returns:\n",
    "        np.array[float]: the vector representation of state |0>.\n",
    "    \"\"\"\n",
    "\n",
    "    ##################\n",
    "    # YOUR CODE HERE #\n",
    "    ##################\n",
    "\n",
    "    # PREPARE THE STATE |0>\n",
    "    return np.array([1, 0])\n",
    "\n",
    "\n",
    "def apply_u(state):\n",
    "    \"\"\"Apply a quantum operation.\"\"\"\n",
    "    return np.dot(U, state)\n",
    "\n",
    "\n",
    "def measure_state(state, num_meas):\n",
    "    \"\"\"Measure a quantum state num_meas times.\"\"\"\n",
    "    p_alpha = np.abs(state[0]) ** 2\n",
    "    p_beta = np.abs(state[1]) ** 2\n",
    "    meas_outcome = np.random.choice([0, 1], p=[p_alpha, p_beta], size=num_meas)\n",
    "    return meas_outcome\n",
    "\n",
    "\n",
    "def quantum_algorithm():\n",
    "    \"\"\"Use the functions above to implement the quantum algorithm described above.\n",
    "\n",
    "    Try and do so using three lines of code or less!\n",
    "\n",
    "    Returns:\n",
    "        np.array[int]: the measurement results after running the algorithm 100 times\n",
    "    \"\"\"\n",
    "\n",
    "    ##################\n",
    "    # YOUR CODE HERE #\n",
    "    ##################\n",
    "\n",
    "    # PREPARE THE STATE, APPLY U, THEN TAKE 100 MEASUREMENT SAMPLES\n",
    "    state = initialize_state()\n",
    "    state = apply_u(state)\n",
    "    return measure_state(state, 100)\n"
   ]
  }
 ],
 "metadata": {
  "kernelspec": {
   "display_name": "hackathon-aM5WswLh",
   "language": "python",
   "name": "python3"
  },
  "language_info": {
   "codemirror_mode": {
    "name": "ipython",
    "version": 3
   },
   "file_extension": ".py",
   "mimetype": "text/x-python",
   "name": "python",
   "nbconvert_exporter": "python",
   "pygments_lexer": "ipython3",
   "version": "3.11.7"
  }
 },
 "nbformat": 4,
 "nbformat_minor": 2
}
