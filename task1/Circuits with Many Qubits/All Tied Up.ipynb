{
 "cells": [
  {
   "cell_type": "markdown",
   "metadata": {},
   "source": [
    "# [All Tied Up](https://pennylane.ai/codebook/03-circuits-many-qubits/02-all-tied-up/)"
   ]
  },
  {
   "cell_type": "code",
   "execution_count": 1,
   "metadata": {},
   "outputs": [],
   "source": [
    "import pennylane as qml\n",
    "from pennylane import numpy as np"
   ]
  },
  {
   "cell_type": "markdown",
   "metadata": {},
   "source": [
    "## Codercise l.12.1"
   ]
  },
  {
   "cell_type": "code",
   "execution_count": null,
   "metadata": {},
   "outputs": [],
   "source": [
    "num_wires = 2\n",
    "dev = qml.device(\"default.qubit\", wires=num_wires)\n",
    "\n",
    "\n",
    "@qml.qnode(dev)\n",
    "def apply_cnot(basis_id):\n",
    "    \"\"\"Apply a CNOT to |basis_id>.\n",
    "\n",
    "    Args:\n",
    "        basis_id (int): An integer value identifying the basis state to construct.\n",
    "\n",
    "    Returns:\n",
    "        np.array[complex]: The resulting state after applying CNOT|basis_id>.\n",
    "    \"\"\"\n",
    "\n",
    "    # Prepare the basis state |basis_id>\n",
    "    bits = [int(x) for x in np.binary_repr(basis_id, width=num_wires)]\n",
    "    qml.BasisStatePreparation(bits, wires=[0, 1])\n",
    "\n",
    "    ##################\n",
    "    # YOUR CODE HERE #\n",
    "    ##################\n",
    "\n",
    "    # APPLY THE CNOT\n",
    "    qml.CNOT([0, 1])\n",
    "\n",
    "    return qml.state()\n",
    "\n",
    "\n",
    "##################\n",
    "# YOUR CODE HERE #\n",
    "##################\n",
    "\n",
    "# REPLACE THE BIT STRINGS VALUES BELOW WITH THE CORRECT ONES\n",
    "cnot_truth_table = {\"00\": \"00\", \"01\": \"01\", \"10\": \"11\", \"11\": \"10\"}\n",
    "\n",
    "\n",
    "# Run your QNode with various inputs to help fill in your truth table\n",
    "print(apply_cnot(0))\n"
   ]
  },
  {
   "cell_type": "markdown",
   "metadata": {},
   "source": [
    "## Codercise l.12.2"
   ]
  },
  {
   "cell_type": "code",
   "execution_count": null,
   "metadata": {},
   "outputs": [],
   "source": [
    "dev = qml.device(\"default.qubit\", wires=2)\n",
    "\n",
    "\n",
    "@qml.qnode(dev)\n",
    "def apply_h_cnot():\n",
    "    ##################\n",
    "    # YOUR CODE HERE #\n",
    "    ##################\n",
    "\n",
    "    # APPLY THE OPERATIONS IN THE CIRCUIT\n",
    "    qml.Hadamard(0)\n",
    "    qml.CNOT([0, 1])\n",
    "\n",
    "    return qml.state()\n",
    "\n",
    "\n",
    "print(apply_h_cnot())\n",
    "\n",
    "##################\n",
    "# YOUR CODE HERE #\n",
    "##################\n",
    "\n",
    "# SET THIS AS 'separable' OR 'entangled' BASED ON YOUR OUTCOME\n",
    "state_status = \"entangled\"\n"
   ]
  },
  {
   "cell_type": "markdown",
   "metadata": {},
   "source": [
    "## Codercise l.12.3"
   ]
  },
  {
   "cell_type": "code",
   "execution_count": null,
   "metadata": {},
   "outputs": [],
   "source": [
    "dev = qml.device(\"default.qubit\", wires=3)\n",
    "\n",
    "\n",
    "@qml.qnode(dev)\n",
    "def controlled_rotations(theta, phi, omega):\n",
    "    \"\"\"Implement the circuit above and return measurement outcome probabilities.\n",
    "\n",
    "    Args:\n",
    "        theta (float): A rotation angle\n",
    "        phi (float): A rotation angle\n",
    "        omega (float): A rotation angle\n",
    "\n",
    "    Returns:\n",
    "        np.array[float]: Measurement outcome probabilities of the 3-qubit\n",
    "        computational basis states.\n",
    "    \"\"\"\n",
    "\n",
    "    ##################\n",
    "    # YOUR CODE HERE #\n",
    "    ##################\n",
    "\n",
    "    # APPLY THE OPERATIONS IN THE CIRCUIT AND RETURN MEASUREMENT PROBABILITIES\n",
    "    qml.Hadamard(0)\n",
    "    qml.CRX(theta, [0, 1])\n",
    "    qml.CRY(phi, [1, 2])\n",
    "    qml.CRZ(omega, [2, 0])\n",
    "\n",
    "    return qml.probs()\n",
    "\n",
    "\n",
    "theta, phi, omega = 0.1, 0.2, 0.3\n",
    "print(controlled_rotations(theta, phi, omega))\n"
   ]
  }
 ],
 "metadata": {
  "kernelspec": {
   "display_name": "hackathon-aM5WswLh",
   "language": "python",
   "name": "python3"
  },
  "language_info": {
   "codemirror_mode": {
    "name": "ipython",
    "version": 3
   },
   "file_extension": ".py",
   "mimetype": "text/x-python",
   "name": "python",
   "nbconvert_exporter": "python",
   "pygments_lexer": "ipython3",
   "version": "3.11.7"
  }
 },
 "nbformat": 4,
 "nbformat_minor": 2
}
