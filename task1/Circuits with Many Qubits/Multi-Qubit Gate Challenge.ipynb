{
 "cells": [
  {
   "cell_type": "markdown",
   "metadata": {},
   "source": [
    "# [Multi-Qubit Gate Challenge](https://pennylane.ai/codebook/03-circuits-many-qubits/04-multi-qubit-challenge/)"
   ]
  },
  {
   "cell_type": "code",
   "execution_count": 1,
   "metadata": {},
   "outputs": [],
   "source": [
    "import pennylane as qml\n",
    "from pennylane import numpy as np"
   ]
  },
  {
   "cell_type": "markdown",
   "metadata": {},
   "source": [
    "## Codercise l.14.1"
   ]
  },
  {
   "cell_type": "code",
   "execution_count": null,
   "metadata": {},
   "outputs": [],
   "source": [
    "dev = qml.device(\"default.qubit\", wires=2)\n",
    "\n",
    "# Starting from the state |00>, implement a PennyLane circuit\n",
    "# to construct each of the Bell basis states.\n",
    "\n",
    "\n",
    "@qml.qnode(dev)\n",
    "def prepare_psi_plus():\n",
    "    ##################\n",
    "    # YOUR CODE HERE #\n",
    "    ##################\n",
    "\n",
    "    # PREPARE (1/sqrt(2)) (|00> + |11>)\n",
    "    qml.Hadamard(0)\n",
    "    qml.CNOT([0, 1])\n",
    "\n",
    "    return qml.state()\n",
    "\n",
    "\n",
    "@qml.qnode(dev)\n",
    "def prepare_psi_minus():\n",
    "    ##################\n",
    "    # YOUR CODE HERE #\n",
    "    ##################\n",
    "\n",
    "    # PREPARE (1/sqrt(2)) (|00> - |11>)\n",
    "    qml.PauliX(0)\n",
    "    qml.Hadamard(0)\n",
    "    qml.CNOT([0, 1])\n",
    "\n",
    "    return qml.state()\n",
    "\n",
    "\n",
    "@qml.qnode(dev)\n",
    "def prepare_phi_plus():\n",
    "    ##################\n",
    "    # YOUR CODE HERE #\n",
    "    ##################\n",
    "\n",
    "    # PREPARE  (1/sqrt(2)) (|01> + |10>)\n",
    "    qml.Hadamard(0)\n",
    "    qml.CNOT([0, 1])\n",
    "    qml.PauliX(0)\n",
    "\n",
    "    return qml.state()\n",
    "\n",
    "\n",
    "@qml.qnode(dev)\n",
    "def prepare_phi_minus():\n",
    "    ##################\n",
    "    # YOUR CODE HERE #\n",
    "    ##################\n",
    "\n",
    "    # PREPARE  (1/sqrt(2)) (|01> - |10>)\n",
    "    qml.PauliX(0)\n",
    "    qml.Hadamard(0)\n",
    "    qml.CNOT([0, 1])\n",
    "    qml.PauliX(1)\n",
    "\n",
    "    return qml.state()\n",
    "\n",
    "\n",
    "psi_plus = prepare_psi_plus()\n",
    "psi_minus = prepare_psi_minus()\n",
    "phi_plus = prepare_phi_plus()\n",
    "phi_minus = prepare_phi_minus()\n",
    "\n",
    "# Uncomment to print results\n",
    "# print(f\"|ψ_+> = {psi_plus}\")\n",
    "# print(f\"|ψ_-> = {psi_minus}\")\n",
    "# print(f\"|ϕ_+> = {phi_plus}\")\n",
    "# print(f\"|ϕ_-> = {phi_minus}\")\n"
   ]
  },
  {
   "cell_type": "markdown",
   "metadata": {},
   "source": [
    "## Codercise l.14.2"
   ]
  },
  {
   "cell_type": "code",
   "execution_count": null,
   "metadata": {},
   "outputs": [],
   "source": [
    "dev = qml.device(\"default.qubit\", wires=3)\n",
    "\n",
    "# State of first 2 qubits\n",
    "state = [0, 1]\n",
    "\n",
    "\n",
    "@qml.qnode(device=dev)\n",
    "def apply_control_sequence(state):\n",
    "    # Set up initial state of the first two qubits\n",
    "    if state[0] == 1:\n",
    "        qml.PauliX(wires=0)\n",
    "    if state[1] == 1:\n",
    "        qml.PauliX(wires=1)\n",
    "\n",
    "    # Set up initial state of the third qubit - use |->\n",
    "    # so we can see the effect on the output\n",
    "    qml.PauliX(wires=2)\n",
    "    qml.Hadamard(wires=2)\n",
    "\n",
    "    ##################\n",
    "    # YOUR CODE HERE #\n",
    "    ##################\n",
    "\n",
    "    # IMPLEMENT THE MULTIPLEXER\n",
    "    # IF STATE OF FIRST TWO QUBITS IS 01, APPLY X TO THIRD QUBIT\n",
    "    qml.MultiControlledX(control_wires=[0, 1], wires=2, control_values=\"01\")\n",
    "\n",
    "    # IF STATE OF FIRST TWO QUBITS IS 10, APPLY Z TO THIRD QUBIT\n",
    "    qml.Hadamard(2)\n",
    "    qml.MultiControlledX(control_wires=[0, 1], wires=2, control_values=\"10\")\n",
    "    qml.Hadamard(2)\n",
    "\n",
    "    # IF STATE OF FIRST TWO QUBITS IS 11, APPLY Y TO THIRD QUBIT\n",
    "    qml.Hadamard(2)\n",
    "    qml.S(2)\n",
    "    qml.MultiControlledX(control_wires=[0, 1], wires=2, control_values=\"11\")\n",
    "    qml.adjoint(qml.S)(2)\n",
    "    qml.Hadamard(2)\n",
    "\n",
    "    return qml.state()\n",
    "\n",
    "\n",
    "print(apply_control_sequence(state))\n"
   ]
  }
 ],
 "metadata": {
  "kernelspec": {
   "display_name": "hackathon-aM5WswLh",
   "language": "python",
   "name": "python3"
  },
  "language_info": {
   "codemirror_mode": {
    "name": "ipython",
    "version": 3
   },
   "file_extension": ".py",
   "mimetype": "text/x-python",
   "name": "python",
   "nbconvert_exporter": "python",
   "pygments_lexer": "ipython3",
   "version": "3.11.7"
  }
 },
 "nbformat": 4,
 "nbformat_minor": 2
}
