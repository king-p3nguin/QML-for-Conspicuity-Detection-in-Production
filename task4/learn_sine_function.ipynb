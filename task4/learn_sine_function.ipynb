{
 "cells": [
  {
   "cell_type": "markdown",
   "metadata": {},
   "source": [
    "# Developing QML model for sine function"
   ]
  },
  {
   "cell_type": "markdown",
   "metadata": {},
   "source": [
    "## General setup"
   ]
  },
  {
   "cell_type": "code",
   "execution_count": 1,
   "metadata": {},
   "outputs": [
    {
     "name": "stderr",
     "output_type": "stream",
     "text": [
      "2024-08-10 03:35:01.425133: I tensorflow/core/util/port.cc:113] oneDNN custom operations are on. You may see slightly different numerical results due to floating-point round-off errors from different computation orders. To turn them off, set the environment variable `TF_ENABLE_ONEDNN_OPTS=0`.\n",
      "2024-08-10 03:35:01.818128: E external/local_xla/xla/stream_executor/cuda/cuda_dnn.cc:9261] Unable to register cuDNN factory: Attempting to register factory for plugin cuDNN when one has already been registered\n",
      "2024-08-10 03:35:01.818171: E external/local_xla/xla/stream_executor/cuda/cuda_fft.cc:607] Unable to register cuFFT factory: Attempting to register factory for plugin cuFFT when one has already been registered\n",
      "2024-08-10 03:35:01.884234: E external/local_xla/xla/stream_executor/cuda/cuda_blas.cc:1515] Unable to register cuBLAS factory: Attempting to register factory for plugin cuBLAS when one has already been registered\n",
      "2024-08-10 03:35:02.012866: I tensorflow/core/platform/cpu_feature_guard.cc:182] This TensorFlow binary is optimized to use available CPU instructions in performance-critical operations.\n",
      "To enable the following instructions: AVX2 AVX_VNNI FMA, in other operations, rebuild TensorFlow with the appropriate compiler flags.\n",
      "2024-08-10 03:35:03.041586: W tensorflow/compiler/tf2tensorrt/utils/py_utils.cc:38] TF-TRT Warning: Could not find TensorRT\n"
     ]
    }
   ],
   "source": [
    "import pennylane as qml\n",
    "from pennylane import numpy as np\n",
    "import tensorflow as tf\n",
    "from tensorflow import keras\n",
    "import matplotlib.pyplot as plt"
   ]
  },
  {
   "cell_type": "markdown",
   "metadata": {},
   "source": [
    "## Hyper-parameter setting"
   ]
  },
  {
   "cell_type": "code",
   "execution_count": 2,
   "metadata": {},
   "outputs": [],
   "source": [
    "n_epochs = 20  # Number of optimization epochs\n",
    "n_train = 50  # Size of the train dataset\n",
    "n_test = 30  # Size of the test dataset\n",
    "\n",
    "np.random.seed(0)  # Seed for NumPy random number generator\n",
    "tf.random.set_seed(0)  # Seed for TensorFlow random number generator\n",
    "tf.get_logger().setLevel(\"ERROR\")  # Disable TensorFlow logging"
   ]
  },
  {
   "cell_type": "markdown",
   "metadata": {},
   "source": [
    "## Create a dataset"
   ]
  },
  {
   "cell_type": "code",
   "execution_count": 3,
   "metadata": {},
   "outputs": [],
   "source": [
    "X_train = np.linspace(0, 2 * np.pi, n_train)\n",
    "y_train = np.sin(X_train)\n",
    "\n",
    "X_test = np.linspace(0, 2 * np.pi, n_test)\n",
    "y_test = np.sin(X_test)"
   ]
  },
  {
   "cell_type": "markdown",
   "metadata": {},
   "source": [
    "## Define a quantum circuit"
   ]
  },
  {
   "cell_type": "code",
   "execution_count": 4,
   "metadata": {},
   "outputs": [
    {
     "data": {
      "image/png": "[encoded data removed]",
      "text/plain": [
       "<Figure size 500x200 with 1 Axes>"
      ]
     },
     "metadata": {},
     "output_type": "display_data"
    }
   ],
   "source": [
    "dev = qml.device(\"lightning.qubit\", wires=1)\n",
    "\n",
    "\n",
    "@qml.qnode(dev, diff_method=\"adjoint\")\n",
    "def circuit(inputs, params):\n",
    "    # Encoding of a classical input value\n",
    "    qml.RY(inputs, wires=0)\n",
    "\n",
    "    # U3 gate ansatz\n",
    "    qml.U3(params[0], params[1], params[2], wires=0)\n",
    "\n",
    "    # Measurement producing a classical output value\n",
    "    return qml.expval(qml.PauliZ(0))\n",
    "\n",
    "\n",
    "qml.draw_mpl(circuit, style=\"pennylane\")(0.5, [0.0, 0.0, 0.0])\n",
    "plt.show()"
   ]
  },
  {
   "cell_type": "markdown",
   "metadata": {},
   "source": [
    "## Define a model"
   ]
  },
  {
   "cell_type": "code",
   "execution_count": 5,
   "metadata": {},
   "outputs": [
    {
     "name": "stderr",
     "output_type": "stream",
     "text": [
      "2024-08-10 03:35:08.533232: I external/local_xla/xla/stream_executor/cuda/cuda_executor.cc:887] could not open file to read NUMA node: /sys/bus/pci/devices/0000:01:00.0/numa_node\n",
      "Your kernel may have been built without NUMA support.\n",
      "2024-08-10 03:35:08.811827: I external/local_xla/xla/stream_executor/cuda/cuda_executor.cc:887] could not open file to read NUMA node: /sys/bus/pci/devices/0000:01:00.0/numa_node\n",
      "Your kernel may have been built without NUMA support.\n",
      "2024-08-10 03:35:08.811871: I external/local_xla/xla/stream_executor/cuda/cuda_executor.cc:887] could not open file to read NUMA node: /sys/bus/pci/devices/0000:01:00.0/numa_node\n",
      "Your kernel may have been built without NUMA support.\n",
      "2024-08-10 03:35:08.822868: I external/local_xla/xla/stream_executor/cuda/cuda_executor.cc:887] could not open file to read NUMA node: /sys/bus/pci/devices/0000:01:00.0/numa_node\n",
      "Your kernel may have been built without NUMA support.\n",
      "2024-08-10 03:35:08.822912: I external/local_xla/xla/stream_executor/cuda/cuda_executor.cc:887] could not open file to read NUMA node: /sys/bus/pci/devices/0000:01:00.0/numa_node\n",
      "Your kernel may have been built without NUMA support.\n",
      "2024-08-10 03:35:08.822929: I external/local_xla/xla/stream_executor/cuda/cuda_executor.cc:887] could not open file to read NUMA node: /sys/bus/pci/devices/0000:01:00.0/numa_node\n",
      "Your kernel may have been built without NUMA support.\n",
      "2024-08-10 03:35:09.035624: I external/local_xla/xla/stream_executor/cuda/cuda_executor.cc:887] could not open file to read NUMA node: /sys/bus/pci/devices/0000:01:00.0/numa_node\n",
      "Your kernel may have been built without NUMA support.\n",
      "2024-08-10 03:35:09.035703: I external/local_xla/xla/stream_executor/cuda/cuda_executor.cc:887] could not open file to read NUMA node: /sys/bus/pci/devices/0000:01:00.0/numa_node\n",
      "Your kernel may have been built without NUMA support.\n",
      "2024-08-10 03:35:09.035709: I tensorflow/core/common_runtime/gpu/gpu_device.cc:2022] Could not identify NUMA node of platform GPU id 0, defaulting to 0.  Your kernel may not have been built with NUMA support.\n",
      "2024-08-10 03:35:09.035718: W tensorflow/core/common_runtime/gpu/gpu_bfc_allocator.cc:47] Overriding orig_value setting because the TF_FORCE_GPU_ALLOW_GROWTH environment variable is set. Original config value was 0.\n",
      "2024-08-10 03:35:09.035736: I external/local_xla/xla/stream_executor/cuda/cuda_executor.cc:887] could not open file to read NUMA node: /sys/bus/pci/devices/0000:01:00.0/numa_node\n",
      "Your kernel may have been built without NUMA support.\n",
      "2024-08-10 03:35:09.035751: I tensorflow/core/common_runtime/gpu/gpu_device.cc:1929] Created device /job:localhost/replica:0/task:0/device:GPU:0 with 5592 MB memory:  -> device: 0, name: NVIDIA GeForce RTX 3060 Ti, pci bus id: 0000:01:00.0, compute capability: 8.6\n"
     ]
    }
   ],
   "source": [
    "weight_shapes = {\"params\": (3)}\n",
    "qlayer = qml.qnn.KerasLayer(circuit, weight_shapes, output_dim=1)\n",
    "\n",
    "model = keras.models.Sequential([qlayer])\n",
    "\n",
    "model.compile(\n",
    "    optimizer=keras.optimizers.Adam(\n",
    "        learning_rate=0.1  # learning rate needs to be higher than 0.001\n",
    "    ),\n",
    "    loss=\"mean_squared_error\",\n",
    "    metrics=[\"accuracy\"],\n",
    ")"
   ]
  },
  {
   "cell_type": "markdown",
   "metadata": {},
   "source": [
    "## Training"
   ]
  },
  {
   "cell_type": "code",
   "execution_count": 6,
   "metadata": {},
   "outputs": [
    {
     "name": "stdout",
     "output_type": "stream",
     "text": [
      "Epoch 1/20\n"
     ]
    },
    {
     "name": "stderr",
     "output_type": "stream",
     "text": [
      "2024-08-10 03:35:10.513661: I external/local_xla/xla/service/service.cc:168] XLA service 0x55e30f1c7260 initialized for platform CUDA (this does not guarantee that XLA will be used). Devices:\n",
      "2024-08-10 03:35:10.513706: I external/local_xla/xla/service/service.cc:176]   StreamExecutor device (0): NVIDIA GeForce RTX 3060 Ti, Compute Capability 8.6\n",
      "2024-08-10 03:35:10.527524: I tensorflow/compiler/mlir/tensorflow/utils/dump_mlir_util.cc:269] disabling MLIR crash reproducer, set env var `MLIR_CRASH_REPRODUCER_DIRECTORY` to enable.\n",
      "2024-08-10 03:35:10.560207: I external/local_xla/xla/stream_executor/cuda/cuda_dnn.cc:454] Loaded cuDNN version 8907\n",
      "WARNING: All log messages before absl::InitializeLog() is called are written to STDERR\n",
      "I0000 00:00:1723228510.614028    8559 device_compiler.h:186] Compiled cluster using XLA!  This line is logged at most once for the lifetime of the process.\n"
     ]
    },
    {
     "name": "stdout",
     "output_type": "stream",
     "text": [
      "13/13 - 1s - loss: 1.2031 - accuracy: 0.1538 - val_loss: 0.9546 - val_accuracy: 0.5000 - 1s/epoch - 106ms/step\n",
      "Epoch 2/20\n",
      "13/13 - 1s - loss: 0.6577 - accuracy: 0.4615 - val_loss: 0.1124 - val_accuracy: 0.7500 - 550ms/epoch - 42ms/step\n",
      "Epoch 3/20\n",
      "13/13 - 1s - loss: 0.0383 - accuracy: 0.8462 - val_loss: 0.0607 - val_accuracy: 0.8750 - 591ms/epoch - 45ms/step\n",
      "Epoch 4/20\n",
      "13/13 - 1s - loss: 0.0286 - accuracy: 1.0000 - val_loss: 1.8457e-04 - val_accuracy: 1.0000 - 553ms/epoch - 43ms/step\n",
      "Epoch 5/20\n",
      "13/13 - 1s - loss: 0.0058 - accuracy: 0.8462 - val_loss: 0.0040 - val_accuracy: 0.8750 - 550ms/epoch - 42ms/step\n",
      "Epoch 6/20\n",
      "13/13 - 1s - loss: 0.0011 - accuracy: 1.0000 - val_loss: 0.0016 - val_accuracy: 1.0000 - 542ms/epoch - 42ms/step\n",
      "Epoch 7/20\n",
      "13/13 - 1s - loss: 7.2204e-04 - accuracy: 0.8462 - val_loss: 1.5395e-04 - val_accuracy: 1.0000 - 627ms/epoch - 48ms/step\n",
      "Epoch 8/20\n",
      "13/13 - 1s - loss: 2.3595e-04 - accuracy: 1.0000 - val_loss: 7.3388e-05 - val_accuracy: 1.0000 - 699ms/epoch - 54ms/step\n",
      "Epoch 9/20\n",
      "13/13 - 1s - loss: 8.6978e-05 - accuracy: 1.0000 - val_loss: 5.9492e-05 - val_accuracy: 1.0000 - 596ms/epoch - 46ms/step\n",
      "Epoch 10/20\n",
      "13/13 - 1s - loss: 4.7108e-05 - accuracy: 1.0000 - val_loss: 4.3662e-05 - val_accuracy: 1.0000 - 602ms/epoch - 46ms/step\n",
      "Epoch 11/20\n",
      "13/13 - 1s - loss: 3.4385e-05 - accuracy: 1.0000 - val_loss: 3.2076e-05 - val_accuracy: 1.0000 - 624ms/epoch - 48ms/step\n",
      "Epoch 12/20\n",
      "13/13 - 1s - loss: 2.7552e-05 - accuracy: 1.0000 - val_loss: 2.2819e-05 - val_accuracy: 1.0000 - 611ms/epoch - 47ms/step\n",
      "Epoch 13/20\n",
      "13/13 - 1s - loss: 2.1467e-05 - accuracy: 1.0000 - val_loss: 1.7408e-05 - val_accuracy: 1.0000 - 696ms/epoch - 54ms/step\n",
      "Epoch 14/20\n",
      "13/13 - 1s - loss: 1.6108e-05 - accuracy: 1.0000 - val_loss: 1.4184e-05 - val_accuracy: 1.0000 - 813ms/epoch - 63ms/step\n",
      "Epoch 15/20\n",
      "13/13 - 1s - loss: 1.3212e-05 - accuracy: 1.0000 - val_loss: 1.1481e-05 - val_accuracy: 1.0000 - 906ms/epoch - 70ms/step\n",
      "Epoch 16/20\n",
      "13/13 - 1s - loss: 1.0989e-05 - accuracy: 1.0000 - val_loss: 9.6457e-06 - val_accuracy: 1.0000 - 663ms/epoch - 51ms/step\n",
      "Epoch 17/20\n",
      "13/13 - 1s - loss: 9.2134e-06 - accuracy: 1.0000 - val_loss: 8.0926e-06 - val_accuracy: 1.0000 - 697ms/epoch - 54ms/step\n",
      "Epoch 18/20\n",
      "13/13 - 1s - loss: 7.7277e-06 - accuracy: 1.0000 - val_loss: 6.8967e-06 - val_accuracy: 1.0000 - 674ms/epoch - 52ms/step\n",
      "Epoch 19/20\n",
      "13/13 - 1s - loss: 6.6892e-06 - accuracy: 1.0000 - val_loss: 5.9066e-06 - val_accuracy: 1.0000 - 636ms/epoch - 49ms/step\n",
      "Epoch 20/20\n",
      "13/13 - 1s - loss: 5.8497e-06 - accuracy: 1.0000 - val_loss: 5.0527e-06 - val_accuracy: 1.0000 - 649ms/epoch - 50ms/step\n"
     ]
    }
   ],
   "source": [
    "history = model.fit(\n",
    "    X_train,\n",
    "    y_train,\n",
    "    validation_data=(X_test, y_test),\n",
    "    batch_size=4,\n",
    "    epochs=n_epochs,\n",
    "    verbose=2,\n",
    ")"
   ]
  },
  {
   "cell_type": "markdown",
   "metadata": {},
   "source": [
    "## Plot the result"
   ]
  },
  {
   "cell_type": "code",
   "execution_count": 7,
   "metadata": {},
   "outputs": [
    {
     "name": "stdout",
     "output_type": "stream",
     "text": [
      "1/1 [==============================] - 0s 47ms/step\n"
     ]
    },
    {
     "data": {
      "image/png": "[encoded data removed]",
      "text/plain": [
       "<Figure size 640x480 with 1 Axes>"
      ]
     },
     "metadata": {},
     "output_type": "display_data"
    }
   ],
   "source": [
    "plt.xlabel(\"Inputs\")\n",
    "plt.ylabel(\"Values\")\n",
    "plt.title(\"Model Predictions\")\n",
    "plt.plot(X_train, y_train, \"^\", label=\"Training points\")\n",
    "plt.plot(X_test, y_test, \"s\", label=\"Testing points\")\n",
    "plt.plot(X_test, model.predict(X_test), \"x\", label=\"Predictions\")\n",
    "plt.legend()\n",
    "plt.show()"
   ]
  }
 ],
 "metadata": {
  "kernelspec": {
   "display_name": "hackathon-eCGhnDTk",
   "language": "python",
   "name": "python3"
  },
  "language_info": {
   "codemirror_mode": {
    "name": "ipython",
    "version": 3
   },
   "file_extension": ".py",
   "mimetype": "text/x-python",
   "name": "python",
   "nbconvert_exporter": "python",
   "pygments_lexer": "ipython3",
   "version": "3.11.7"
  }
 },
 "nbformat": 4,
 "nbformat_minor": 2
}
